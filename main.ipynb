{
 "cells": [
  {
   "cell_type": "code",
   "execution_count": 133,
   "metadata": {},
   "outputs": [],
   "source": [
    "import numpy as np\n",
    "import lmfit as lm\n",
    "import scipy as sp\n",
    "from matplotlib import pyplot as plt\n"
   ]
  },
  {
   "cell_type": "code",
   "execution_count": 134,
   "metadata": {},
   "outputs": [],
   "source": [
    "import os\n",
    "import re\n",
    "\n",
    "def get_deg(filename):\n",
    "    \"\"\"Извлекаем угол из имени файла\"\"\"\n",
    "    degstring = re.search(r\"(?<=-2x)\\d+(\\-)?\\d*(?=deg)\", filename)[0].replace('-', '.')\n",
    "    return float(degstring)\n",
    "               \n",
    "working_dir = os.getcwd() + \"/data/\"\n",
    "filenames = list(filter(lambda f: \".txt\" in f, os.listdir(working_dir))) # Работаем только с .txt\n",
    "filenames.sort(key=get_deg)\n",
    "# print(*filenames, sep='\\n')"
   ]
  },
  {
   "cell_type": "code",
   "execution_count": 135,
   "metadata": {},
   "outputs": [],
   "source": [
    "def cut_range(data, startx, endx):\n",
    "    \"\"\"Ограничиваем диапазон\"\"\"\n",
    "    xdata = data[:,0]\n",
    "    if startx <= endx:\n",
    "        condition = (startx <= xdata) & (xdata <= endx)\n",
    "    else:\n",
    "        condition = (startx > xdata) & (xdata > endx)\n",
    "    return data[condition]\n",
    "\n",
    "def make_zeros(data, cutout):\n",
    "    \"\"\"Заменяем кусочек диапазона нулями\"\"\"\n",
    "    newdata = data\n",
    "    xdata = data[:,0]\n",
    "    condition = (cutout[0] <= xdata) & (cutout[1] >= xdata)\n",
    "    newdata[condition, 1] = min(data[:,1])\n",
    "    return newdata"
   ]
  },
  {
   "cell_type": "code",
   "execution_count": 136,
   "metadata": {},
   "outputs": [],
   "source": [
    "def find_closest(point, data):\n",
    "    \"\"\"Найти точку в массиве, ближайшую к заданной\"\"\"\n",
    "    xdata = list(data[:,0])\n",
    "    return sorted(xdata, key=lambda x: abs(x-point))[0]\n"
   ]
  },
  {
   "cell_type": "code",
   "execution_count": 137,
   "metadata": {},
   "outputs": [],
   "source": [
    "def fit_peaks(data):\n",
    "    p = 87\n",
    "    wcenter = 2\n",
    "    acenter = max(data[:,1]) * wcenter * np.pi/2\n",
    "    wshift = 15\n",
    "    stokes_a = data[np.where(data[:,0] == find_closest(-p, data))[0][0], 1] * wshift * np.pi/2\n",
    "    antistokes_a = data[np.where(data[:,0] == find_closest(p, data))[0][0], 1] * wshift * np.pi/2\n",
    "    print(stokes_a)\n",
    "\n",
    "    stokes = lm.models.PseudoVoigtModel(prefix='stokes_')\n",
    "    antistokes = lm.models.PseudoVoigtModel(prefix='antistokes_')\n",
    "    center = lm.models.PseudoVoigtModel(prefix='center_')\n",
    "    base = lm.models.LinearModel(prefix='base_')\n",
    "    \n",
    "    combined = stokes + antistokes + base + center\n",
    "    combined_params = combined.make_params(\n",
    "        stokes_center=dict(value=-p, min=-p-1, max=-p+1),\n",
    "        stokes_amplitude=dict(value=stokes_a, min=stokes_a*0.9, max=stokes_a*1.1),\n",
    "        stokes_sigma=dict(value=wshift/2, min=(wshift-7)/2, max=(wshift+7)/2),\n",
    "\n",
    "        antistokes_center=dict(value=p, min=p-1, max=p+1),\n",
    "        antistokes_amplitude=dict(value=antistokes_a, min=antistokes_a*0.9, max=antistokes_a*1.1),\n",
    "        antistokes_sigma=dict(value=wshift/2, min=(wshift-7)/2, max=(wshift+7)/2),\n",
    "\n",
    "        center_center=0, center_amplitude=acenter, center_sigma=wcenter/2,\n",
    "        base_slope = 0, base_intercept=min(data[:,1])\n",
    "    )\n",
    "\n",
    "    return combined.fit(data[:,1], combined_params, x=data[:,0])"
   ]
  },
  {
   "cell_type": "code",
   "execution_count": 138,
   "metadata": {},
   "outputs": [
    {
     "name": "stdout",
     "output_type": "stream",
     "text": [
      "#349-00 (GeTe init)-p1-z(xy)z-P 4mWx5%_10x10 s_532nm(T)_ULF_600 (500nm)_x100_Hole 150-2x20deg.txt\n",
      "33.499666403207705\n"
     ]
    },
    {
     "data": {
      "image/png": "[encoded data removed]",
      "text/plain": [
       "<Figure size 640x480 with 1 Axes>"
      ]
     },
     "metadata": {},
     "output_type": "display_data"
    }
   ],
   "source": [
    "START = -110\n",
    "END = 110\n",
    "CUTOUT = [-40, 40]\n",
    "# plt.yscale('log')\n",
    "count = 0\n",
    "for filename in filenames:\n",
    "    count += 1\n",
    "    if count != 5:\n",
    "        continue\n",
    "    print(filename)\n",
    "    data = cut_range(np.loadtxt(working_dir + filename), START, END)\n",
    "    # data = make_zeros(data, CUTOUT)\n",
    "\n",
    "\n",
    "    fit = fit_peaks(data)\n",
    "\n",
    "    smooth_x = np.arange(START, END, 0.0001)\n",
    "    smooth_data = np.transpose(np.array([smooth_x, fit.eval(x=smooth_x)]))\n",
    "    plt.plot(*np.transpose(data), '.', )\n",
    "    plt.plot(*np.transpose(smooth_data))\n",
    "    \n",
    "    # print(fit.fit_report())\n",
    "\n",
    "    "
   ]
  }
 ],
 "metadata": {
  "kernelspec": {
   "display_name": "Python 3",
   "language": "python",
   "name": "python3"
  },
  "language_info": {
   "codemirror_mode": {
    "name": "ipython",
    "version": 3
   },
   "file_extension": ".py",
   "mimetype": "text/x-python",
   "name": "python",
   "nbconvert_exporter": "python",
   "pygments_lexer": "ipython3",
   "version": "3.13.0"
  }
 },
 "nbformat": 4,
 "nbformat_minor": 2
}
