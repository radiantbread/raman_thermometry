{
 "cells": [
  {
   "cell_type": "code",
   "execution_count": 260,
   "metadata": {},
   "outputs": [],
   "source": [
    "import numpy as np\n",
    "import lmfit as lm\n",
    "import scipy as sp\n",
    "import pandas as pd\n",
    "from matplotlib import pyplot as plt\n"
   ]
  },
  {
   "cell_type": "code",
   "execution_count": 261,
   "metadata": {},
   "outputs": [],
   "source": [
    "import os\n",
    "import re\n",
    "\n",
    "def get_degrees(filename):\n",
    "    \"\"\"Извлекаем угол из имени файла\"\"\"\n",
    "    degstring = re.search(r\"(?<=-2x)\\d+(\\-)?\\d*(?=deg)\", filename)[0].replace('-', '.')\n",
    "    return float(degstring)\n",
    "               \n",
    "working_dir = os.getcwd() + \"/data/\"\n",
    "filenames = list(filter(lambda f: \".txt\" in f, os.listdir(working_dir))) # Работаем только с .txt\n",
    "filenames.sort(key=get_degrees)"
   ]
  },
  {
   "cell_type": "code",
   "execution_count": 262,
   "metadata": {},
   "outputs": [],
   "source": [
    "def cut_range(data, startx, endx):\n",
    "    \"\"\"Ограничиваем диапазон\"\"\"\n",
    "    xdata = data[:,0]\n",
    "    if startx <= endx:\n",
    "        condition = (startx <= xdata) & (xdata <= endx)\n",
    "    else:\n",
    "        condition = (startx > xdata) & (xdata > endx)\n",
    "    return data[condition]\n",
    "\n",
    "def make_zeros(data, cutout):\n",
    "    \"\"\"Заменяем кусочек диапазона нулями - СЕЙЧАС НЕ НУЖНО\"\"\"\n",
    "    newdata = data\n",
    "    xdata = data[:,0]\n",
    "    condition = (cutout[0] <= xdata) & (cutout[1] >= xdata)\n",
    "    newdata[condition, 1] = min(data[:,1])\n",
    "    return newdata"
   ]
  },
  {
   "cell_type": "code",
   "execution_count": 263,
   "metadata": {},
   "outputs": [],
   "source": [
    "def find_closest(point, data):\n",
    "    \"\"\"Найти точку в массиве, ближайшую к заданной\"\"\"\n",
    "    xdata = list(data[:,0])\n",
    "    return sorted(xdata, key=lambda x: abs(x-point))[0]\n"
   ]
  },
  {
   "cell_type": "code",
   "execution_count": 264,
   "metadata": {},
   "outputs": [],
   "source": [
    "def fit_peaks(data):\n",
    "    \"\"\"Подогнать кривые к данным\"\"\"\n",
    "    p = 87\n",
    "    wcenter = 2\n",
    "    acenter = max(data[:,1]) * wcenter * np.pi/2\n",
    "    wshift = 15\n",
    "    stokes_a = data[np.where(data[:,0] == find_closest(p, data))[0][0], 1] * wshift * np.pi/2\n",
    "    antistokes_a = data[np.where(data[:,0] == find_closest(-p, data))[0][0], 1] * wshift * np.pi/2\n",
    "\n",
    "    stokes = lm.models.PseudoVoigtModel(prefix='stokes_')\n",
    "    antistokes = lm.models.PseudoVoigtModel(prefix='antistokes_')\n",
    "    center = lm.models.PseudoVoigtModel(prefix='center_')\n",
    "    base = lm.models.LinearModel(prefix='base_')\n",
    "    \n",
    "    combined = stokes + antistokes + base + center\n",
    "    combined_params = combined.make_params(\n",
    "        stokes_center=dict(value=p, min=p-1, max=p+1),\n",
    "        stokes_amplitude=dict(value=stokes_a, min=stokes_a*0.9, max=stokes_a*1.1),\n",
    "        stokes_sigma=dict(value=wshift/2, min=(wshift-7)/2, max=(wshift+7)/2),\n",
    "\n",
    "        antistokes_center=dict(value=-p, min=-p-1, max=-p+1),\n",
    "        antistokes_amplitude=dict(value=antistokes_a, min=antistokes_a*0.9, max=antistokes_a*1.1),\n",
    "        antistokes_sigma=dict(value=wshift/2, min=(wshift-7)/2, max=(wshift+7)/2),\n",
    "\n",
    "        center_center=0,\n",
    "        center_amplitude=acenter,\n",
    "        center_sigma=wcenter/2,\n",
    "\n",
    "        base_slope = 0,\n",
    "        base_intercept=min(data[:,1])\n",
    "    )\n",
    "\n",
    "    return combined.fit(data[:,1], combined_params, x=data[:,0])"
   ]
  },
  {
   "cell_type": "code",
   "execution_count": 265,
   "metadata": {},
   "outputs": [],
   "source": [
    "laser_wavelength = 532 * 10**(-9)\n",
    "raman_shift = 87 * 10**2\n",
    "c = 3 # * 10**8\n",
    "k = 1.381 # * 10**(-23)\n",
    "h = 6.626 # * 10**(-34)\n",
    "\n",
    "laser_freq = c / laser_wavelength\n",
    "vibrational_freq = c * raman_shift\n",
    "\n",
    "def calculate_temperature(I_s, I_as):\n",
    "\n",
    "    fraction = (laser_freq - vibrational_freq)**3 / (laser_freq + vibrational_freq)**3 * I_as / I_s\n",
    "    return -h*vibrational_freq / (k*np.log(fraction)) / 1000"
   ]
  },
  {
   "cell_type": "code",
   "execution_count": 266,
   "metadata": {},
   "outputs": [
    {
     "name": "stdout",
     "output_type": "stream",
     "text": [
      "Соотношение I_as/I_s: 0.644\n",
      "Градусы: 45, Температура: 267.98\n",
      "====================\n"
     ]
    },
    {
     "data": {
      "image/png": "[encoded data removed]",
      "text/plain": [
       "<Figure size 640x480 with 1 Axes>"
      ]
     },
     "metadata": {},
     "output_type": "display_data"
    }
   ],
   "source": [
    "START = -110\n",
    "END = 110\n",
    "CUTOUT = [-40, 40]\n",
    "\n",
    "ax = plt.gca()\n",
    "\n",
    "table = pd.DataFrame(columns=['Stokes, Antistokes', 'Temperature'])\n",
    "\n",
    "count = 0\n",
    "for filename in filenames:\n",
    "    degrees = int(2 * float(get_degrees(filename)))\n",
    "    count += 1\n",
    "    if count != 6:\n",
    "        continue\n",
    "        2 == 2\n",
    "    data = cut_range(np.loadtxt(working_dir + filename), START, END)\n",
    "\n",
    "    fit = fit_peaks(data)\n",
    "    fit_parameters = fit.params.valuesdict()\n",
    "    I_stokes = fit_parameters['stokes_height']\n",
    "    I_antistokes = fit_parameters['antistokes_height']\n",
    "    print(f\"Соотношение I_as/I_s: {I_antistokes/I_stokes:0.3f}\")\n",
    "\n",
    "    smooth_x = np.arange(START, END, 0.0001)\n",
    "    smooth_data = np.transpose(np.array([smooth_x, fit.eval(x=smooth_x)]))\n",
    "\n",
    "    ax.set_ylim([0, 35])\n",
    "    plt.plot(*np.transpose(data), '.')\n",
    "    plt.plot(*np.transpose(smooth_data))\n",
    "    temperature = calculate_temperature(I_stokes, I_antistokes)\n",
    "    print(f\"Градусы: {degrees}, Температура: {temperature:0.2f}\")\n",
    "    print(\"=\"*20)"
   ]
  },
  {
   "cell_type": "markdown",
   "metadata": {},
   "source": [
    "$$\\frac{I_{AS}}{I_S} = \\frac{(\\nu_L + \\nu_v)^3}{(\\nu_L - \\nu_v)^3}\\exp\\left(\\frac{-h\\nu_v}{kT}\\right) \\iff\n",
    "T = -\\frac{h\\nu_v}{k\\ln\\left(\\frac{I_{AS}(\\nu_L - \\nu_v)^3}{I_S(\\nu_L + \\nu_v)^3}\\right)}\n",
    "$$"
   ]
  }
 ],
 "metadata": {
  "kernelspec": {
   "display_name": "Python 3",
   "language": "python",
   "name": "python3"
  },
  "language_info": {
   "codemirror_mode": {
    "name": "ipython",
    "version": 3
   },
   "file_extension": ".py",
   "mimetype": "text/x-python",
   "name": "python",
   "nbconvert_exporter": "python",
   "pygments_lexer": "ipython3",
   "version": "3.13.0"
  }
 },
 "nbformat": 4,
 "nbformat_minor": 2
}
