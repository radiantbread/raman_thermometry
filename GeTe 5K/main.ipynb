{
 "cells": [
  {
   "cell_type": "code",
   "execution_count": 772,
   "metadata": {},
   "outputs": [],
   "source": [
    "import numpy as np\n",
    "import lmfit as lm\n",
    "import scipy as sp\n",
    "import pandas as pd\n",
    "from matplotlib import pyplot as plt\n"
   ]
  },
  {
   "cell_type": "code",
   "execution_count": 773,
   "metadata": {},
   "outputs": [],
   "source": [
    "import os\n",
    "import re\n",
    "\n",
    "def get_degrees(filename):\n",
    "    \"\"\"Извлекаем угол из имени файла\"\"\"\n",
    "    degstring = re.search(r\"(?<=-2x)\\d+(\\-)?\\d*(?=deg)\", filename)[0].replace('-', '.')\n",
    "    return float(degstring)\n",
    "               \n",
    "working_dir = os.getcwd() + \"/data/\"\n",
    "filenames = list(filter(lambda f: \".txt\" in f, os.listdir(working_dir))) # Работаем только с .txt"
   ]
  },
  {
   "cell_type": "code",
   "execution_count": 774,
   "metadata": {},
   "outputs": [],
   "source": [
    "def cut_range(data, startx, endx):\n",
    "    \"\"\"Ограничиваем диапазон\"\"\"\n",
    "    xdata = data[:,0]\n",
    "    if startx <= endx:\n",
    "        condition = (startx <= xdata) & (xdata <= endx)\n",
    "    else:\n",
    "        condition = (startx > xdata) & (xdata > endx)\n",
    "    return data[condition]\n",
    "\n",
    "def make_zeros(data, cutout):\n",
    "    \"\"\"Заменяем кусочек диапазона нулями - СЕЙЧАС НЕ НУЖНО\"\"\"\n",
    "    newdata = data\n",
    "    xdata = data[:,0]\n",
    "    condition = (cutout[0] <= xdata) & (cutout[1] >= xdata)\n",
    "    newdata[condition, 1] = min(data[:,1])\n",
    "    return newdata"
   ]
  },
  {
   "cell_type": "code",
   "execution_count": 775,
   "metadata": {},
   "outputs": [],
   "source": [
    "def find_closest(point, data):\n",
    "    \"\"\"Найти точку в массиве, ближайшую к заданной\"\"\"\n",
    "    xdata = list(data[:,0])\n",
    "    return np.where(data[:,0] == sorted(xdata, key=lambda x: abs(x-point))[0])[0][0]\n",
    "\n",
    "def find_max(point, data, radius):\n",
    "    \"\"\"Найти локальный максимум рядом\"\"\"\n",
    "    center = find_closest(point, data)\n",
    "    return max(data[center-radius:center+radius,1])"
   ]
  },
  {
   "cell_type": "code",
   "execution_count": 776,
   "metadata": {},
   "outputs": [],
   "source": [
    "def fit_peaks(data):\n",
    "    \"\"\"Подогнать кривые к данным\"\"\"\n",
    "    base_guess = min(data[:,1])\n",
    "    p = 98\n",
    "    p_parasite = 135\n",
    "    wcenter = 15\n",
    "    acenter = (max(data[:,1]) - base_guess) * wcenter * np.pi/2\n",
    "    wshift = 7\n",
    "\n",
    "    \"\"\"\n",
    "    stokes_a = (data[find_closest(p, data), 1] - base_guess) * wshift * np.pi/2\n",
    "    stokes_parasite_a = (data[find_closest(p_parasite, data), 1] - base_guess) * wshift * np.pi/2\n",
    "    antistokes_a = (data[find_closest(-p, data), 1] - base_guess) * wshift * np.pi/2\n",
    "    antistokes_parasite_a = (data[find_closest(-p_parasite, data), 1] - base_guess) * wshift * np.pi/2\n",
    "    \"\"\"\n",
    "    radius = 10\n",
    "    stokes_a = (find_max(p, data, radius) - base_guess) * wshift * np.pi/2\n",
    "    stokes_parasite_a = (find_max(p_parasite, data, radius) - base_guess) * wshift * np.pi/2\n",
    "    antistokes_a = (find_max(-p, data, radius) - base_guess) * wshift * np.pi/2\n",
    "    antistokes_parasite_a = (find_max(-p_parasite, data, radius) - base_guess) * wshift * np.pi/2\n",
    "\n",
    "    stokes = lm.models.PseudoVoigtModel(prefix='stokes_')\n",
    "    stokes_parasite = lm.models.PseudoVoigtModel(prefix='stokes_parasite_')\n",
    "    antistokes = lm.models.PseudoVoigtModel(prefix='antistokes_')\n",
    "    antistokes_parasite = lm.models.PseudoVoigtModel(prefix='antistokes_parasite_')\n",
    "    center = lm.models.PseudoVoigtModel(prefix='center_')\n",
    "    base = lm.models.ConstantModel(prefix='base_')\n",
    "    \n",
    "    combined = stokes + stokes_parasite + antistokes + antistokes_parasite + center + base\n",
    "    combined_params = combined.make_params(\n",
    "        stokes_center=dict(value=p, min=p-2, max=p+2),\n",
    "        stokes_amplitude=dict(value=stokes_a, min=stokes_a*0.98, max=stokes_a*1.2),\n",
    "        stokes_sigma=dict(value=wshift/2, min=(wshift-4)/2, max=(wshift+4)/2),\n",
    "\n",
    "        stokes_parasite_center=dict(value=p_parasite, min=p_parasite-2, max=p_parasite+2),\n",
    "        stokes_parasite_amplitude=dict(value=stokes_parasite_a, min=stokes_parasite_a*0.98, max=stokes_parasite_a*1.2),\n",
    "        stokes_parasite_sigma=dict(value=wshift/2, min=(wshift-4)/2, max=(wshift+4)/2),\n",
    "\n",
    "        antistokes_center=dict(value=-p, min=-p-2, max=-p+2),\n",
    "        antistokes_amplitude=dict(value=antistokes_a, min=antistokes_a*0.9, max=antistokes_a*1.01),\n",
    "        antistokes_sigma=dict(value=wshift/2, min=(wshift-2)/2, max=(wshift+4)/2),\n",
    "\n",
    "        antistokes_parasite_center=dict(value=-p_parasite, min=-p_parasite-2, max=-p_parasite+2),\n",
    "        antistokes_parasite_amplitude=dict(value=antistokes_parasite_a, min=antistokes_parasite_a*0.9, max=antistokes_parasite_a*1.01),\n",
    "        antistokes_parasite_sigma=dict(value=wshift/2, min=(wshift-2)/2, max=(wshift+4)/2),\n",
    "\n",
    "        center_center=0,\n",
    "        center_amplitude=acenter,\n",
    "        center_sigma=wcenter/2,\n",
    "\n",
    "        base_c=dict(value=base_guess, min=base_guess*0.99, max=base_guess*1.01),\n",
    "    )\n",
    "\n",
    "    return combined.fit(data[:,1], combined_params, x=data[:,0])"
   ]
  },
  {
   "cell_type": "code",
   "execution_count": 777,
   "metadata": {},
   "outputs": [],
   "source": [
    "laser_wavelength = 633 * 10**(-9)\n",
    "raman_shift = 98 * 10**2\n",
    "c = 3 * 10**8\n",
    "k = 1.381 * 10**(-23)\n",
    "h = 6.626 * 10**(-34)\n",
    "\n",
    "laser_freq = c / laser_wavelength\n",
    "vibrational_freq = c * raman_shift\n",
    "\n",
    "def calculate_temperature(I_s, I_as):\n",
    "    fraction = (laser_freq - vibrational_freq)**3 / (laser_freq + vibrational_freq)**3 * I_as / I_s\n",
    "    return -h*vibrational_freq / (k*np.log(fraction)) # / 10**3 # Деление на 1000 эквивалентно учёту степеней 10 константах!\n",
    "\n",
    "def calculate_ratio(T):\n",
    "    fraction = (laser_freq + vibrational_freq)**3 / (laser_freq - vibrational_freq)**3\n",
    "    exponent = np.exp(-h*vibrational_freq / (k*T))\n",
    "    return fraction * exponent"
   ]
  },
  {
   "cell_type": "code",
   "execution_count": 778,
   "metadata": {},
   "outputs": [
    {
     "name": "stdout",
     "output_type": "stream",
     "text": [
      "5.805169897563489e-13\n"
     ]
    }
   ],
   "source": [
    "print(calculate_ratio(5))"
   ]
  },
  {
   "cell_type": "code",
   "execution_count": null,
   "metadata": {},
   "outputs": [
    {
     "data": {
      "image/png": "[encoded data removed]",
      "text/plain": [
       "<Figure size 640x480 with 1 Axes>"
      ]
     },
     "metadata": {},
     "output_type": "display_data"
    }
   ],
   "source": [
    "START = -180\n",
    "END = 180\n",
    "\n",
    "ax = plt.gca()\n",
    "\n",
    "table = pd.DataFrame(columns=['Angle', 'I_S', 'I_AS', 'Temperature'])\n",
    "\n",
    "count = 0\n",
    "for filename in filenames:\n",
    "    count += 1\n",
    "    if count != 8:        continue\n",
    "        2 == 2\n",
    "    data = cut_range(np.loadtxt(working_dir + filename), START, END)\n",
    "\n",
    "    fit = fit_peaks(data)\n",
    "    fit_parameters = fit.params.valuesdict()\n",
    "    I_stokes = fit_parameters['stokes_height']\n",
    "    I_antistokes = fit_parameters['antistokes_height']\n",
    "    width_stokes = fit_parameters['stokes_fwhm']\n",
    "    width_antistokes = fit_parameters['antistokes_fwhm']\n",
    "\n",
    "    smooth_x = np.arange(START, END, 0.0001)\n",
    "    smooth_data = np.transpose(np.array([smooth_x, fit.eval(x=smooth_x)]))\n",
    "\n",
    "    ax.set_ylim([min(data[:,1])*0.5, (I_stokes+min(data[:,1]))*1.3])\n",
    "    plt.plot(*np.transpose(data), '.')\n",
    "    plt.plot(*np.transpose(smooth_data))\n",
    "\n",
    "    temperature = calculate_temperature(I_stokes, I_antistokes)\n",
    "    temperature_int = calculate_temperature(I_stokes*width_stokes, I_antistokes*width_antistokes)\n",
    "\n",
    "    print(filename)\n",
    "    print(f\"Температура на пиковых I: {temperature:0.2f}\")\n",
    "    print(f\"Температура на интегральных I: {temperature_int:0.2f}\")\n",
    "    print(\"=\"*20)"
   ]
  },
  {
   "cell_type": "code",
   "execution_count": 780,
   "metadata": {},
   "outputs": [],
   "source": [
    "# table.to_csv('output.csv', index=False)"
   ]
  },
  {
   "cell_type": "markdown",
   "metadata": {},
   "source": [
    "$$\\frac{I_{AS}}{I_S} = \\frac{(\\nu_L + \\nu_v)^3}{(\\nu_L - \\nu_v)^3}\\exp\\left(\\frac{-h\\nu_v}{kT}\\right) \\iff\n",
    "T = -\\frac{h\\nu_v}{k\\ln\\left(\\frac{I_{AS}(\\nu_L - \\nu_v)^3}{I_S(\\nu_L + \\nu_v)^3}\\right)}\n",
    "$$"
   ]
  }
 ],
 "metadata": {
  "kernelspec": {
   "display_name": "Python 3",
   "language": "python",
   "name": "python3"
  },
  "language_info": {
   "codemirror_mode": {
    "name": "ipython",
    "version": 3
   },
   "file_extension": ".py",
   "mimetype": "text/x-python",
   "name": "python",
   "nbconvert_exporter": "python",
   "pygments_lexer": "ipython3",
   "version": "3.13.0"
  }
 },
 "nbformat": 4,
 "nbformat_minor": 2
}
